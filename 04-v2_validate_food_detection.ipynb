{
 "cells": [
  {
   "cell_type": "code",
   "execution_count": null,
   "metadata": {},
   "outputs": [],
   "source": [
    "import os\n",
    "from ultralytics import YOLO"
   ]
  },
  {
   "cell_type": "code",
   "execution_count": 4,
   "metadata": {},
   "outputs": [],
   "source": [
    "ppath = os.environ.get(\"PROJECT_PATH\", \"\")\n",
    "model_path = f'{ppath}/models/food_detector_uecf100.pt'\n",
    "data_yaml = f'{ppath}/configs/uecfood100.yaml'  \n",
    "model = YOLO(model_path)"
   ]
  },
  {
   "cell_type": "code",
   "execution_count": 6,
   "metadata": {},
   "outputs": [
    {
     "name": "stdout",
     "output_type": "stream",
     "text": [
      "Ultralytics 8.3.96 🚀 Python-3.10.16 torch-2.6.0+cu124 CUDA:0 (NVIDIA GeForce RTX 3090, 24253MiB)\n"
     ]
    },
    {
     "name": "stderr",
     "output_type": "stream",
     "text": [
      "\u001b[34m\u001b[1mval: \u001b[0mScanning /root/workspace/s7/datasets/uecfood100-yolo/val/labels.cache... 2532 images, 0 backgrounds, 0 corrupt: 100%|██████████| 2532/2532 [00:00<?, ?it/s]\u001b[0m"
     ]
    },
    {
     "name": "stdout",
     "output_type": "stream",
     "text": [
      "\u001b[34m\u001b[1mval: \u001b[0mWARNING ⚠️ /root/workspace/s7/datasets/uecfood100-yolo/val/images/3394.jpg: corrupt JPEG restored and saved\n",
      "\u001b[34m\u001b[1mval: \u001b[0mWARNING ⚠️ /root/workspace/s7/datasets/uecfood100-yolo/val/images/4334.jpg: corrupt JPEG restored and saved\n",
      "\u001b[34m\u001b[1mval: \u001b[0mWARNING ⚠️ /root/workspace/s7/datasets/uecfood100-yolo/val/images/5854.jpg: corrupt JPEG restored and saved\n",
      "\u001b[34m\u001b[1mval: \u001b[0mWARNING ⚠️ /root/workspace/s7/datasets/uecfood100-yolo/val/images/83.jpg: corrupt JPEG restored and saved\n",
      "\u001b[34m\u001b[1mval: \u001b[0mWARNING ⚠️ /root/workspace/s7/datasets/uecfood100-yolo/val/images/85.jpg: corrupt JPEG restored and saved\n",
      "\u001b[34m\u001b[1mval: \u001b[0mWARNING ⚠️ /root/workspace/s7/datasets/uecfood100-yolo/val/images/86.jpg: corrupt JPEG restored and saved\n"
     ]
    },
    {
     "name": "stderr",
     "output_type": "stream",
     "text": [
      "\n",
      "                 Class     Images  Instances      Box(P          R      mAP50  mAP50-95): 100%|██████████| 40/40 [00:07<00:00,  5.21it/s]\n"
     ]
    },
    {
     "name": "stdout",
     "output_type": "stream",
     "text": [
      "                   all       2532       2913       0.93      0.909      0.956      0.828\n",
      "                  rice        136        138      0.912      0.819      0.941      0.769\n",
      "          eels on rice         35         35      0.971      0.971       0.98        0.9\n",
      "                 pilaf         23         23       0.77       0.87      0.898      0.795\n",
      "chicken-'n'-egg on rice         18         18      0.967          1      0.995      0.942\n",
      "   pork cutlet on rice         23         23      0.987          1      0.995      0.916\n",
      "            beef curry         47         48      0.933      0.979      0.989      0.904\n",
      "                 sushi         25         30          1      0.969      0.995      0.858\n",
      "          chicken rice         20         20      0.922        0.8      0.905      0.735\n",
      "            fried rice         28         28      0.844      0.772      0.878      0.757\n",
      "          tempura bowl         22         22      0.977      0.955       0.99      0.882\n",
      "              bibimbap         24         24      0.975          1      0.995      0.972\n",
      "                 toast         43         44      0.812      0.787      0.857      0.686\n",
      "             croissant         28         28      0.944      0.964      0.975      0.899\n",
      "            roll bread         17         18          1      0.933       0.99      0.839\n",
      "          raisin bread         24         24      0.989      0.958      0.992      0.927\n",
      "            chip butty         27         32      0.879      0.907      0.954      0.817\n",
      "             hamburger         51         55          1      0.969      0.994      0.914\n",
      "                 pizza         27         27      0.963      0.963      0.983      0.899\n",
      "            sandwiches         38         39       0.95      0.949      0.971      0.729\n",
      "           udon noodle         23         23      0.879          1       0.99      0.878\n",
      "          tempura udon         33         33      0.998          1      0.995      0.882\n",
      "           soba noodle         32         32      0.968      0.957      0.989      0.843\n",
      "          ramen noodle         70         70      0.942      0.931      0.966      0.879\n",
      "           beef noodle         30         30      0.906      0.867      0.934      0.839\n",
      "         tensin noodle         17         17      0.894      0.995       0.99      0.865\n",
      "          fried noodle         32         32      0.968      0.939      0.984      0.875\n",
      "             spaghetti         36         36      0.939      0.861      0.981      0.768\n",
      "Japanese-style pancake         21         21      0.968      0.905      0.988      0.902\n",
      "              takoyaki         26         26      0.885      0.962      0.982      0.868\n",
      "                gratin         19         19      0.901      0.964      0.988      0.926\n",
      "    sauteed vegetables         24         24      0.846      0.875      0.947      0.831\n",
      "             croquette         17         17      0.896      0.941      0.985      0.905\n",
      "      grilled eggplant         18         18      0.784      0.778      0.882      0.761\n",
      "       sauteed spinach         17         17      0.968      0.941      0.992      0.917\n",
      "     vegetable tempura         28         28      0.952      0.893      0.978      0.771\n",
      "             miso soup        141        141      0.917      0.867      0.933      0.771\n",
      "                potage         28         28      0.978      0.929      0.993      0.913\n",
      "               sausage         30         30      0.865      0.855      0.922      0.716\n",
      "                  oden         19         19          1      0.885      0.993      0.898\n",
      "                omelet         22         22      0.806      0.909      0.934      0.752\n",
      "             ganmodoki         24         24       0.95      0.958      0.971      0.743\n",
      "                jiaozi         40         40      0.945      0.862      0.949      0.792\n",
      "                  stew         18         18          1      0.733      0.947      0.869\n",
      " teriyaki grilled fish         28         28      0.957      0.803      0.921      0.719\n",
      "            fried fish         22         22      0.853      0.727      0.817       0.63\n",
      "        grilled salmon         30         30      0.959      0.785      0.901      0.647\n",
      "       salmon meuniere         19         19      0.822          1      0.983      0.747\n",
      "               sashimi         19         19      0.923      0.842      0.898      0.715\n",
      " grilled pacific saury         26         26      0.989          1      0.995      0.731\n",
      "              sukiyaki         20         20          1      0.835      0.956      0.876\n",
      "   sweet and sour pork         14         14      0.971          1      0.995      0.902\n",
      "  lightly roasted fish         21         21      0.908      0.941      0.944      0.846\n",
      "steamed egg hotchpotch         19         19       0.86      0.895      0.967      0.803\n",
      "               tempura         19         19       0.87      0.947      0.945      0.884\n",
      "         fried chicken         35         35       0.91      0.866      0.909      0.727\n",
      "        sirloin cutlet         30         30      0.878      0.967      0.975      0.811\n",
      "            nanbanzuke         14         14       0.86      0.929      0.957      0.748\n",
      "           boiled fish         19         19      0.943      0.865      0.921      0.781\n",
      "seasoned beef with potatoes         28         28      0.918      0.964      0.988      0.867\n",
      "         hambarg steak         27         27       0.88      0.813      0.876      0.744\n",
      "            beef steak         20         20          1      0.847      0.957      0.826\n",
      "            dried fish         25         25      0.986          1      0.995       0.88\n",
      "     ginger pork saute         22         22      0.949      0.841      0.924      0.764\n",
      "spicy chili-flavored tofu         20         20      0.955        0.9      0.975      0.943\n",
      "              yakitori         25         25      0.924       0.96      0.988      0.783\n",
      "          cabbage roll         20         20      0.851       0.75      0.858      0.722\n",
      "         rolled omelet         27         27      0.927      0.942      0.989      0.857\n",
      "     egg sunny-side up         46         48      0.905      0.917      0.922      0.638\n",
      "    fermented soybeans         24         24      0.905      0.875      0.932      0.627\n",
      "             cold tofu         23         23      0.909      0.867      0.903      0.767\n",
      "              egg roll         22         22          1      0.901      0.958       0.84\n",
      "        chilled noodle         25         25      0.961      0.988      0.992      0.921\n",
      "stir-fried beef and peppers         21         21      0.887      0.905      0.973      0.865\n",
      "         simmered pork         22         22      0.914      0.955      0.983      0.905\n",
      "boiled chicken and vegetables         22         22          1      0.882      0.992      0.864\n",
      "          sashimi bowl         33         33      0.989          1      0.995      0.911\n",
      "            sushi bowl         23         23      0.929      0.826      0.924      0.843\n",
      "fish-shaped pancake with bean jam         32         32      0.984      0.938      0.985      0.891\n",
      "shrimp with chill source         20         20      0.962       0.95       0.95      0.897\n",
      "         roast chicken         25         25      0.953       0.96      0.983      0.852\n",
      " steamed meat dumpling         23         23      0.943          1      0.995      0.832\n",
      "omelet with fried rice         21         21      0.898       0.84      0.905      0.812\n",
      "          cutlet curry         34         34      0.961          1      0.995       0.95\n",
      "  spaghetti meat sauce         30         30          1      0.934      0.993      0.884\n",
      "          fried shrimp         26         26      0.916      0.962      0.992      0.891\n",
      "          potato salad         23         23      0.928      0.913      0.985      0.914\n",
      "           green salad         58         59      0.885      0.831      0.923       0.76\n",
      "        macaroni salad         27         27      0.942      0.889      0.926      0.847\n",
      "Japanese tofu and vegetable chowder         27         27      0.791      0.815      0.832      0.719\n",
      "        pork miso soup         24         24      0.954       0.86      0.916      0.857\n",
      "          chinese soup         34         34       0.83      0.912      0.935      0.818\n",
      "             beef bowl         36         37      0.958      0.919      0.947      0.853\n",
      "kinpira-style sauteed burdock         14         14      0.904      0.857      0.961      0.802\n",
      "             rice ball         26         50      0.978       0.92      0.932       0.75\n",
      "           pizza toast         23         23      0.973      0.957      0.961      0.881\n",
      "       dipping noodles         25         26      0.961      0.943      0.985      0.863\n",
      "               hot dog         18         20      0.988        0.9       0.95      0.797\n",
      "          french fries         33         35      0.967      0.844      0.979       0.79\n",
      "            mixed rice         32         34      0.938      0.853      0.926       0.73\n",
      "         goya chanpuru         16         16      0.933          1      0.995      0.941\n",
      "Speed: 0.2ms preprocess, 0.8ms inference, 0.0ms loss, 0.4ms postprocess per image\n",
      "Results saved to \u001b[1mruns/detect/val3\u001b[0m\n"
     ]
    }
   ],
   "source": [
    "metrics = model.val(\n",
    "    data=data_yaml,\n",
    "    batch=64,\n",
    "    imgsz=640,\n",
    "    device=0, \n",
    "    split='val'\n",
    ")"
   ]
  },
  {
   "cell_type": "code",
   "execution_count": 7,
   "metadata": {},
   "outputs": [
    {
     "name": "stdout",
     "output_type": "stream",
     "text": [
      "\n",
      "=== Summary Metrics ===\n",
      "mAP50-95: 0.8277\n",
      "mAP50: 0.9565\n",
      "mAP75: 0.9188\n",
      "\n",
      "=== Class-wise Metrics ===\n",
      "Mean Precision: 0.9299\n",
      "Mean Recall: 0.9090\n",
      "\n",
      "Top 5 best performing classes:\n",
      "rice: P=0.912, R=0.819, AP50=0.941\n",
      "eels on rice: P=0.971, R=0.971, AP50=0.980\n",
      "pilaf: P=0.770, R=0.870, AP50=0.898\n",
      "chicken-'n'-egg on rice: P=0.967, R=1.000, AP50=0.995\n",
      "pork cutlet on rice: P=0.987, R=1.000, AP50=0.995\n",
      "\n",
      "Bottom 5 worst performing classes:\n",
      "dipping noodles: P=0.961, R=0.943, AP50=0.985\n",
      "hot dog: P=0.988, R=0.900, AP50=0.950\n",
      "french fries: P=0.967, R=0.844, AP50=0.979\n",
      "mixed rice: P=0.938, R=0.853, AP50=0.926\n",
      "goya chanpuru: P=0.933, R=1.000, AP50=0.995\n"
     ]
    }
   ],
   "source": [
    "print(\"\\n=== Summary Metrics ===\")\n",
    "print(f\"mAP50-95: {metrics.box.map:.4f}\")\n",
    "print(f\"mAP50: {metrics.box.map50:.4f}\")\n",
    "print(f\"mAP75: {metrics.box.map75:.4f}\")\n",
    "\n",
    "print(f\"\\n=== Class-wise Metrics ===\")\n",
    "print(f\"Mean Precision: {metrics.box.p.mean():.4f}\")\n",
    "print(f\"Mean Recall: {metrics.box.r.mean():.4f}\")\n",
    "\n",
    "print(\"\\nTop 5 best performing classes:\")\n",
    "for i in metrics.box.ap_class_index[:5]:\n",
    "    cls_name = model.names[i]\n",
    "    print(f\"{cls_name}: P={metrics.box.p[i]:.3f}, R={metrics.box.r[i]:.3f}, AP50={metrics.box.ap50[i]:.3f}\")\n",
    "\n",
    "print(\"\\nBottom 5 worst performing classes:\")\n",
    "for i in metrics.box.ap_class_index[-5:]:\n",
    "    cls_name = model.names[i]\n",
    "    print(f\"{cls_name}: P={metrics.box.p[i]:.3f}, R={metrics.box.r[i]:.3f}, AP50={metrics.box.ap50[i]:.3f}\")\n"
   ]
  },
  {
   "cell_type": "code",
   "execution_count": null,
   "metadata": {},
   "outputs": [],
   "source": []
  }
 ],
 "metadata": {
  "kernelspec": {
   "display_name": "Python 3 (ipykernel)",
   "language": "python",
   "name": "python3"
  },
  "language_info": {
   "codemirror_mode": {
    "name": "ipython",
    "version": 3
   },
   "file_extension": ".py",
   "mimetype": "text/x-python",
   "name": "python",
   "nbconvert_exporter": "python",
   "pygments_lexer": "ipython3",
   "version": "3.10.16"
  }
 },
 "nbformat": 4,
 "nbformat_minor": 2
}
