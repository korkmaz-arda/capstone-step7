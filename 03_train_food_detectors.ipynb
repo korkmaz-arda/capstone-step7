{
 "cells": [
  {
   "cell_type": "code",
   "execution_count": null,
   "metadata": {},
   "outputs": [],
   "source": [
    "import os\n",
    "from ultralytics import YOLO\n",
    "\n",
    "ppath = os.environ.get(\"PROJECT_PATH\", \"\")\n",
    "model = YOLO(f'{ppath}/models/plain-yolo/yolo11n.pt')\n",
    "model.train(\n",
    "    data=f'{ppath}/configs/uecfood100.yaml',\n",
    "    epochs=100,            \n",
    "    imgsz=640,\n",
    "    batch=64,\n",
    "    device=0,\n",
    ")"
   ]
  },
  {
   "cell_type": "code",
   "execution_count": null,
   "metadata": {},
   "outputs": [],
   "source": [
    "# !cp runs/detect/train3/weights/best.pt models/food_detector_uecf100.pt"
   ]
  },
  {
   "cell_type": "code",
   "execution_count": null,
   "metadata": {},
   "outputs": [],
   "source": [
    "import os\n",
    "from ultralytics import YOLO\n",
    "\n",
    "ppath = os.environ.get(\"PROJECT_PATH\", \"\")\n",
    "model = YOLO(f'{ppath}/models/plain-yolo/yolo11n.pt')\n",
    "model.train(\n",
    "    data=f'{ppath}/configs/vfn.yaml',\n",
    "    epochs=100,            \n",
    "    imgsz=640,\n",
    "    batch=64,\n",
    "    device=0,\n",
    ")"
   ]
  },
  {
   "cell_type": "code",
   "execution_count": null,
   "metadata": {},
   "outputs": [],
   "source": [
    "# !cp runs/detect/train4/weights/best.pt models/food_detector_vfn.pt"
   ]
  }
 ],
 "metadata": {
  "language_info": {
   "name": "python"
  }
 },
 "nbformat": 4,
 "nbformat_minor": 2
}
